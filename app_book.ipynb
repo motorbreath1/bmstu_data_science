{
 "cells": [
  {
   "cell_type": "code",
   "execution_count": 1,
   "id": "5ee97702",
   "metadata": {},
   "outputs": [],
   "source": [
    "import tensorflow as tf\n",
    "import os, sys\n",
    "from tensorflow import keras\n",
    "from tensorflow.keras import layers\n",
    "import numpy as np\n",
    "import pandas as pd\n",
    "model_loaded = keras.models.load_model(r\"C:\\Users\\Oksana\\models\\VKR\")#Нужно указать путь к модели"
   ]
  },
  {
   "cell_type": "code",
   "execution_count": 3,
   "id": "13a846a2",
   "metadata": {},
   "outputs": [
    {
     "name": "stdout",
     "output_type": "stream",
     "text": [
      "Модель прогноза- Прочность при растяжении, Мпа %\n",
      " Cоотношение матрица-наполнитель %(0.88.....8.5): 1\n",
      " Плотность, кг/м3 %(2300......3882): 2500\n",
      " модуль упругости, ГПа %(4......2391): 7\n",
      " Количество отвердителя, м.% %(50......291): 55\n",
      " Содержание эпоксидных групп,%_2 %(20......48): 24\n",
      " Температура вспышки, С_2 %(260......636): 270\n",
      " Поверхностная плотность, г/м2 %(3.....1791): 5\n",
      " Модуль упругости при растяжении,ГПа %(86.....144): 88\n",
      " Потребление смолы, г/м2 %(90.....590): 99\n",
      " Угол нашивки, град %(0...173): 173\n",
      " Шаг нашивки %(1.....21): 20\n",
      " Плотность нашивки %(39....138): 40\n",
      " Прогнозное значение прочность при растяжении: 6430.7334\n"
     ]
    }
   ],
   "source": [
    "col=['Cоотношение матрица-наполнитель %','Плотность, кг/м3 %', 'модуль упругости, ГПа %','Количество отвердителя, м.% %','Содержание эпоксидных групп,%_2 %','Температура вспышки, С_2 %','Поверхностная плотность, г/м2 %','Модуль упругости при растяжении,ГПа %','Потребление смолы, г/м2 %','Угол нашивки, град %','Шаг нашивки %','Плотность нашивки %']\n",
    "diap=['(0.88.....8.5)','(2300......3882)', '(4......2391)', '(50......291)','(20......48)', '(260......636)','(3.....1791)','(86.....144)','(90.....590)','(0...173)','(1.....21)','(39....138)']\n",
    "input_val = pd.DataFrame()\n",
    "j = []\n",
    "i = 0\n",
    "print(\"Модель прогноза- Прочность при растяжении, Мпа %\")\n",
    "while i < len(col):\n",
    "    line = f\" {col[i]}{diap[i]}: \"\n",
    "    while True:\n",
    "        try:\n",
    "            param_val = input(line)\n",
    "            param_value=float(param_val)\n",
    "        except:\n",
    "            print(\"ОШИБКА введите числовое значение\")\n",
    "            continue\n",
    "        break\n",
    "    j.append(param_value)\n",
    "    i += 1\n",
    "df= pd.DataFrame([j],columns =col)\n",
    "test_predictions = model_loaded.predict(df).flatten()\n",
    "print(\" Прогнозное значение прочность при растяжении:\",str(test_predictions)[1:-1])"
   ]
  },
  {
   "cell_type": "code",
   "execution_count": null,
   "id": "262e88bc",
   "metadata": {},
   "outputs": [],
   "source": []
  }
 ],
 "metadata": {
  "kernelspec": {
   "display_name": "Python 3 (ipykernel)",
   "language": "python",
   "name": "python3"
  },
  "language_info": {
   "codemirror_mode": {
    "name": "ipython",
    "version": 3
   },
   "file_extension": ".py",
   "mimetype": "text/x-python",
   "name": "python",
   "nbconvert_exporter": "python",
   "pygments_lexer": "ipython3",
   "version": "3.8.12"
  }
 },
 "nbformat": 4,
 "nbformat_minor": 5
}
